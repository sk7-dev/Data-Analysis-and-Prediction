{
 "cells": [
  {
   "cell_type": "markdown",
   "metadata": {},
   "source": [
    "**IMPORTS**\n"
   ]
  },
  {
   "cell_type": "code",
   "execution_count": 1,
   "metadata": {},
   "outputs": [],
   "source": [
    "import pandas as pd\n",
    "import datetime\n",
    "import os"
   ]
  },
  {
   "cell_type": "markdown",
   "metadata": {},
   "source": [
    "**SET VARIABLES**\n"
   ]
  },
  {
   "cell_type": "code",
   "execution_count": 2,
   "metadata": {},
   "outputs": [
    {
     "name": "stdout",
     "output_type": "stream",
     "text": [
      "File Path: d:\\CSULB\\Project\\Data Analysis and Prediction\\Python\\ETL\n",
      "Data Location: d:\\CSULB\\Project\\Data Analysis and Prediction\\Python\\ETL\\Data\n"
     ]
    }
   ],
   "source": [
    "cwd = os.getcwd()\n",
    "print(f'File Path: {cwd}')\n",
    "folder = '\\\\Data'\n",
    "data_path = cwd + folder\n",
    "print(f'Data Location: {data_path}')"
   ]
  },
  {
   "cell_type": "markdown",
   "metadata": {},
   "source": [
    "**GET ALL FOLDERS AND FILES**\n"
   ]
  },
  {
   "cell_type": "code",
   "execution_count": 3,
   "metadata": {},
   "outputs": [
    {
     "name": "stdout",
     "output_type": "stream",
     "text": [
      "Hogwarts_Student_Data_20240101.csv\n",
      "Hogwarts_Student_Data_20240201.csv\n",
      "Hogwarts_Student_Data_20240301.csv\n",
      "Hogwarts_Student_Data_20240401.csv\n",
      "Hogwarts_Student_Data_20240501.csv\n",
      "Hogwarts_Student_Data_20240601.csv\n"
     ]
    }
   ],
   "source": [
    "folder_files = os.listdir(data_path)\n",
    "for f in folder_files:\n",
    "    print(f)"
   ]
  },
  {
   "cell_type": "markdown",
   "metadata": {},
   "source": [
    "**PEEK OF DATA**\n"
   ]
  },
  {
   "cell_type": "code",
   "execution_count": 4,
   "metadata": {},
   "outputs": [
    {
     "data": {
      "text/html": [
       "<div>\n",
       "<style scoped>\n",
       "    .dataframe tbody tr th:only-of-type {\n",
       "        vertical-align: middle;\n",
       "    }\n",
       "\n",
       "    .dataframe tbody tr th {\n",
       "        vertical-align: top;\n",
       "    }\n",
       "\n",
       "    .dataframe thead th {\n",
       "        text-align: right;\n",
       "    }\n",
       "</style>\n",
       "<table border=\"1\" class=\"dataframe\">\n",
       "  <thead>\n",
       "    <tr style=\"text-align: right;\">\n",
       "      <th></th>\n",
       "      <th>Student Name</th>\n",
       "      <th>House</th>\n",
       "      <th>Year</th>\n",
       "      <th>Wand Type</th>\n",
       "      <th>Pet</th>\n",
       "      <th>Potions Grade</th>\n",
       "      <th>Defense Against the Dark Arts Grade</th>\n",
       "      <th>Transfiguration Grade</th>\n",
       "      <th>Spells Learned</th>\n",
       "      <th>Quidditch Position</th>\n",
       "      <th>Points Earned for House</th>\n",
       "      <th>Detentions</th>\n",
       "      <th>Participation in Dueling Club</th>\n",
       "      <th>Triwizard Tournament Involvement</th>\n",
       "      <th>Items Owned</th>\n",
       "      <th>Knuts Spent in Hogsmeade</th>\n",
       "      <th>Attendance at Classes</th>\n",
       "      <th>Magical Accidents</th>\n",
       "    </tr>\n",
       "  </thead>\n",
       "  <tbody>\n",
       "    <tr>\n",
       "      <th>0</th>\n",
       "      <td>Terry Finnigan</td>\n",
       "      <td>Ravenclaw</td>\n",
       "      <td>2</td>\n",
       "      <td>9 inches, elm, veela hair core</td>\n",
       "      <td>NaN</td>\n",
       "      <td>Acceptable</td>\n",
       "      <td>Exceeds Expectations</td>\n",
       "      <td>Outstanding</td>\n",
       "      <td>23</td>\n",
       "      <td>NaN</td>\n",
       "      <td>54</td>\n",
       "      <td>1</td>\n",
       "      <td>Yes</td>\n",
       "      <td>Yes</td>\n",
       "      <td>Extendable Ears, Marauder's Map</td>\n",
       "      <td>391</td>\n",
       "      <td>49</td>\n",
       "      <td>1</td>\n",
       "    </tr>\n",
       "    <tr>\n",
       "      <th>1</th>\n",
       "      <td>Cho Spinnet</td>\n",
       "      <td>Hufflepuff</td>\n",
       "      <td>5</td>\n",
       "      <td>11 inches, holly, phoenix feather core</td>\n",
       "      <td>NaN</td>\n",
       "      <td>Acceptable</td>\n",
       "      <td>Exceeds Expectations</td>\n",
       "      <td>Outstanding</td>\n",
       "      <td>8</td>\n",
       "      <td>Chaser</td>\n",
       "      <td>25</td>\n",
       "      <td>3</td>\n",
       "      <td>Yes</td>\n",
       "      <td>No</td>\n",
       "      <td>Sneakoscope, Invisibility Cloak, Extendable Ears</td>\n",
       "      <td>325</td>\n",
       "      <td>72</td>\n",
       "      <td>4</td>\n",
       "    </tr>\n",
       "    <tr>\n",
       "      <th>2</th>\n",
       "      <td>Ginny Potter</td>\n",
       "      <td>Ravenclaw</td>\n",
       "      <td>2</td>\n",
       "      <td>12 inches, yew, unicorn hair core</td>\n",
       "      <td>Dragon</td>\n",
       "      <td>Outstanding</td>\n",
       "      <td>Poor</td>\n",
       "      <td>Poor</td>\n",
       "      <td>13</td>\n",
       "      <td>Keeper</td>\n",
       "      <td>-5</td>\n",
       "      <td>3</td>\n",
       "      <td>No</td>\n",
       "      <td>Yes</td>\n",
       "      <td>Time-Turner</td>\n",
       "      <td>287</td>\n",
       "      <td>91</td>\n",
       "      <td>10</td>\n",
       "    </tr>\n",
       "    <tr>\n",
       "      <th>3</th>\n",
       "      <td>Katie Bones</td>\n",
       "      <td>Hufflepuff</td>\n",
       "      <td>5</td>\n",
       "      <td>9 inches, elm, veela hair core</td>\n",
       "      <td>Toad</td>\n",
       "      <td>Acceptable</td>\n",
       "      <td>Acceptable</td>\n",
       "      <td>Outstanding</td>\n",
       "      <td>19</td>\n",
       "      <td>Beater</td>\n",
       "      <td>5</td>\n",
       "      <td>2</td>\n",
       "      <td>Yes</td>\n",
       "      <td>Yes</td>\n",
       "      <td>Marauder's Map, Time-Turner, Invisibility Cloak</td>\n",
       "      <td>315</td>\n",
       "      <td>47</td>\n",
       "      <td>3</td>\n",
       "    </tr>\n",
       "    <tr>\n",
       "      <th>4</th>\n",
       "      <td>Padma SpinneSt</td>\n",
       "      <td>Hufflepuff</td>\n",
       "      <td>6</td>\n",
       "      <td>12 inches, yew, unicorn hair core</td>\n",
       "      <td>Owl</td>\n",
       "      <td>Outstanding</td>\n",
       "      <td>Outstanding</td>\n",
       "      <td>Exceeds Expectations</td>\n",
       "      <td>23</td>\n",
       "      <td>Keeper</td>\n",
       "      <td>-38</td>\n",
       "      <td>4</td>\n",
       "      <td>No</td>\n",
       "      <td>No</td>\n",
       "      <td>Marauder's Map</td>\n",
       "      <td>215</td>\n",
       "      <td>79</td>\n",
       "      <td>4</td>\n",
       "    </tr>\n",
       "  </tbody>\n",
       "</table>\n",
       "</div>"
      ],
      "text/plain": [
       "     Student Name       House  Year                               Wand Type  \\\n",
       "0  Terry Finnigan   Ravenclaw     2          9 inches, elm, veela hair core   \n",
       "1     Cho Spinnet  Hufflepuff     5  11 inches, holly, phoenix feather core   \n",
       "2    Ginny Potter   Ravenclaw     2       12 inches, yew, unicorn hair core   \n",
       "3     Katie Bones  Hufflepuff     5          9 inches, elm, veela hair core   \n",
       "4  Padma SpinneSt  Hufflepuff     6       12 inches, yew, unicorn hair core   \n",
       "\n",
       "      Pet Potions Grade Defense Against the Dark Arts Grade  \\\n",
       "0     NaN    Acceptable                Exceeds Expectations   \n",
       "1     NaN    Acceptable                Exceeds Expectations   \n",
       "2  Dragon   Outstanding                                Poor   \n",
       "3    Toad    Acceptable                          Acceptable   \n",
       "4     Owl   Outstanding                         Outstanding   \n",
       "\n",
       "  Transfiguration Grade  Spells Learned Quidditch Position  \\\n",
       "0           Outstanding              23                NaN   \n",
       "1           Outstanding               8             Chaser   \n",
       "2                  Poor              13             Keeper   \n",
       "3           Outstanding              19             Beater   \n",
       "4  Exceeds Expectations              23             Keeper   \n",
       "\n",
       "   Points Earned for House  Detentions Participation in Dueling Club  \\\n",
       "0                       54           1                           Yes   \n",
       "1                       25           3                           Yes   \n",
       "2                       -5           3                            No   \n",
       "3                        5           2                           Yes   \n",
       "4                      -38           4                            No   \n",
       "\n",
       "  Triwizard Tournament Involvement  \\\n",
       "0                              Yes   \n",
       "1                               No   \n",
       "2                              Yes   \n",
       "3                              Yes   \n",
       "4                               No   \n",
       "\n",
       "                                        Items Owned  Knuts Spent in Hogsmeade  \\\n",
       "0                   Extendable Ears, Marauder's Map                       391   \n",
       "1  Sneakoscope, Invisibility Cloak, Extendable Ears                       325   \n",
       "2                                       Time-Turner                       287   \n",
       "3   Marauder's Map, Time-Turner, Invisibility Cloak                       315   \n",
       "4                                    Marauder's Map                       215   \n",
       "\n",
       "   Attendance at Classes  Magical Accidents  \n",
       "0                     49                  1  \n",
       "1                     72                  4  \n",
       "2                     91                 10  \n",
       "3                     47                  3  \n",
       "4                     79                  4  "
      ]
     },
     "execution_count": 4,
     "metadata": {},
     "output_type": "execute_result"
    }
   ],
   "source": [
    "df_peek = pd.read_csv(data_path + '/Hogwarts_Student_Data_20240601.csv')\n",
    "df_peek.head()"
   ]
  },
  {
   "cell_type": "markdown",
   "metadata": {},
   "source": [
    "**COMBINE ALL CSVs**\n"
   ]
  },
  {
   "cell_type": "code",
   "execution_count": 5,
   "metadata": {},
   "outputs": [
    {
     "name": "stdout",
     "output_type": "stream",
     "text": [
      "Reading Hogwarts_Student_Data_20240101.csv\n",
      "Reading Hogwarts_Student_Data_20240201.csv\n",
      "Reading Hogwarts_Student_Data_20240301.csv\n",
      "Reading Hogwarts_Student_Data_20240401.csv\n",
      "Reading Hogwarts_Student_Data_20240501.csv\n",
      "Reading Hogwarts_Student_Data_20240601.csv\n",
      "Completed Data-frame Concatenation\n"
     ]
    }
   ],
   "source": [
    "df_list = []\n",
    "for file in folder_files:\n",
    "    print(f'Reading {file}')\n",
    "    file_path = data_path + '\\\\' + file\n",
    "    temp_df = pd.read_csv(file_path)\n",
    "    temp_df['fileName'] = file\n",
    "    temp_df['loadDatetimeStamp'] = datetime.datetime.now()\n",
    "    df_list.append(temp_df)\n",
    "\n",
    "df = pd.concat(df_list, ignore_index = True)\n",
    "print('Completed Data-frame Concatenation')"
   ]
  },
  {
   "cell_type": "code",
   "execution_count": 6,
   "metadata": {},
   "outputs": [
    {
     "name": "stdout",
     "output_type": "stream",
     "text": [
      "<class 'pandas.core.frame.DataFrame'>\n",
      "RangeIndex: 48000 entries, 0 to 47999\n",
      "Data columns (total 20 columns):\n",
      " #   Column                               Non-Null Count  Dtype         \n",
      "---  ------                               --------------  -----         \n",
      " 0   Student Name                         34560 non-null  object        \n",
      " 1   House                                44000 non-null  object        \n",
      " 2   Year                                 48000 non-null  int64         \n",
      " 3   Wand Type                            48000 non-null  object        \n",
      " 4   Pet                                  40054 non-null  object        \n",
      " 5   Potions Grade                        44560 non-null  object        \n",
      " 6   Defense Against the Dark Arts Grade  48000 non-null  object        \n",
      " 7   Transfiguration Grade                48000 non-null  object        \n",
      " 8   Spells Learned                       48000 non-null  int64         \n",
      " 9   Quidditch Position                   38496 non-null  object        \n",
      " 10  Points Earned for House              48000 non-null  int64         \n",
      " 11  Detentions                           48000 non-null  int64         \n",
      " 12  Participation in Dueling Club        48000 non-null  object        \n",
      " 13  Triwizard Tournament Involvement     42080 non-null  object        \n",
      " 14  Items Owned                          48000 non-null  object        \n",
      " 15  Knuts Spent in Hogsmeade             48000 non-null  int64         \n",
      " 16  Attendance at Classes                48000 non-null  int64         \n",
      " 17  Magical Accidents                    48000 non-null  int64         \n",
      " 18  fileName                             48000 non-null  object        \n",
      " 19  loadDatetimeStamp                    48000 non-null  datetime64[us]\n",
      "dtypes: datetime64[us](1), int64(7), object(12)\n",
      "memory usage: 7.3+ MB\n"
     ]
    }
   ],
   "source": [
    "df.info()"
   ]
  },
  {
   "cell_type": "markdown",
   "metadata": {},
   "source": [
    "**SAVE BRONZE LAYER**\n"
   ]
  },
  {
   "cell_type": "code",
   "execution_count": 7,
   "metadata": {},
   "outputs": [],
   "source": [
    "df.to_parquet('Bronze.parquet', index = False)"
   ]
  }
 ],
 "metadata": {
  "kernelspec": {
   "display_name": "bsg",
   "language": "python",
   "name": "python3"
  },
  "language_info": {
   "codemirror_mode": {
    "name": "ipython",
    "version": 3
   },
   "file_extension": ".py",
   "mimetype": "text/x-python",
   "name": "python",
   "nbconvert_exporter": "python",
   "pygments_lexer": "ipython3",
   "version": "3.12.6"
  }
 },
 "nbformat": 4,
 "nbformat_minor": 2
}
