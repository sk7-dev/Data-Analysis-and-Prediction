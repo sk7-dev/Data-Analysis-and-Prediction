{
 "cells": [
  {
   "cell_type": "markdown",
   "metadata": {},
   "source": [
    "**GOLD LAYER**\n"
   ]
  },
  {
   "cell_type": "markdown",
   "metadata": {},
   "source": [
    "**IMPORTS**\n"
   ]
  },
  {
   "cell_type": "code",
   "execution_count": 50,
   "metadata": {},
   "outputs": [],
   "source": [
    "import pandas as pd"
   ]
  },
  {
   "cell_type": "code",
   "execution_count": 51,
   "metadata": {},
   "outputs": [],
   "source": [
    "df = pd.read_parquet('Silver.parquet')"
   ]
  },
  {
   "cell_type": "markdown",
   "metadata": {},
   "source": [
    "**Preview the Data**\n"
   ]
  },
  {
   "cell_type": "code",
   "execution_count": 52,
   "metadata": {},
   "outputs": [
    {
     "data": {
      "text/html": [
       "<div>\n",
       "<style scoped>\n",
       "    .dataframe tbody tr th:only-of-type {\n",
       "        vertical-align: middle;\n",
       "    }\n",
       "\n",
       "    .dataframe tbody tr th {\n",
       "        vertical-align: top;\n",
       "    }\n",
       "\n",
       "    .dataframe thead th {\n",
       "        text-align: right;\n",
       "    }\n",
       "</style>\n",
       "<table border=\"1\" class=\"dataframe\">\n",
       "  <thead>\n",
       "    <tr style=\"text-align: right;\">\n",
       "      <th></th>\n",
       "      <th>Student Name</th>\n",
       "      <th>House</th>\n",
       "      <th>Year</th>\n",
       "      <th>Wand Type</th>\n",
       "      <th>Pet</th>\n",
       "      <th>Potions Grade</th>\n",
       "      <th>Defense Against the Dark Arts Grade</th>\n",
       "      <th>Transfiguration Grade</th>\n",
       "      <th>Spells Learned</th>\n",
       "      <th>Quidditch Position</th>\n",
       "      <th>Points Earned for House</th>\n",
       "      <th>Detentions</th>\n",
       "      <th>Participation in Dueling Club</th>\n",
       "      <th>Triwizard Tournament Involvement</th>\n",
       "      <th>Items Owned</th>\n",
       "      <th>Knuts Spent in Hogsmeade</th>\n",
       "      <th>Attendance at Classes</th>\n",
       "      <th>Magical Accidents</th>\n",
       "      <th>fileName</th>\n",
       "      <th>loadDatetimeStamp</th>\n",
       "    </tr>\n",
       "  </thead>\n",
       "  <tbody>\n",
       "    <tr>\n",
       "      <th>0</th>\n",
       "      <td>Seamus Potter</td>\n",
       "      <td>Slytherin</td>\n",
       "      <td>2</td>\n",
       "      <td>9 inches, elm, veela hair core</td>\n",
       "      <td>Dragon</td>\n",
       "      <td>Outstanding</td>\n",
       "      <td>Exceeds Expectations</td>\n",
       "      <td>Outstanding</td>\n",
       "      <td>26</td>\n",
       "      <td>Beater</td>\n",
       "      <td>-100</td>\n",
       "      <td>3</td>\n",
       "      <td>No</td>\n",
       "      <td>No</td>\n",
       "      <td>Time-Turner, Marauder's Map</td>\n",
       "      <td>88</td>\n",
       "      <td>74</td>\n",
       "      <td>5</td>\n",
       "      <td>Hogwarts_Student_Data_20240101.csv</td>\n",
       "      <td>2024-12-19 11:50:28.089582</td>\n",
       "    </tr>\n",
       "    <tr>\n",
       "      <th>1</th>\n",
       "      <td>Ginny Spinnet</td>\n",
       "      <td>Gryffindor</td>\n",
       "      <td>6</td>\n",
       "      <td>9 inches, elm, veela hair core</td>\n",
       "      <td>Cat</td>\n",
       "      <td>Exceeds Expectations</td>\n",
       "      <td>Acceptable</td>\n",
       "      <td>Outstanding</td>\n",
       "      <td>11</td>\n",
       "      <td>Chaser</td>\n",
       "      <td>139</td>\n",
       "      <td>2</td>\n",
       "      <td>No</td>\n",
       "      <td>No</td>\n",
       "      <td>Firebolt, Sneakoscope, Extendable Ears</td>\n",
       "      <td>99</td>\n",
       "      <td>67</td>\n",
       "      <td>6</td>\n",
       "      <td>Hogwarts_Student_Data_20240101.csv</td>\n",
       "      <td>2024-12-19 11:50:28.089582</td>\n",
       "    </tr>\n",
       "    <tr>\n",
       "      <th>2</th>\n",
       "      <td>Padma Parkinson</td>\n",
       "      <td>Gryffindor</td>\n",
       "      <td>4</td>\n",
       "      <td>11 inches, holly, phoenix feather core</td>\n",
       "      <td>Muggle Born</td>\n",
       "      <td>Outstanding</td>\n",
       "      <td>Acceptable</td>\n",
       "      <td>Outstanding</td>\n",
       "      <td>19</td>\n",
       "      <td>Seeker</td>\n",
       "      <td>93</td>\n",
       "      <td>2</td>\n",
       "      <td>No</td>\n",
       "      <td>No</td>\n",
       "      <td>Invisibility Cloak</td>\n",
       "      <td>342</td>\n",
       "      <td>88</td>\n",
       "      <td>6</td>\n",
       "      <td>Hogwarts_Student_Data_20240101.csv</td>\n",
       "      <td>2024-12-19 11:50:28.089582</td>\n",
       "    </tr>\n",
       "    <tr>\n",
       "      <th>3</th>\n",
       "      <td>He who must not be named</td>\n",
       "      <td>Ravenclaw</td>\n",
       "      <td>1</td>\n",
       "      <td>12 inches, yew, unicorn hair core</td>\n",
       "      <td>Toad</td>\n",
       "      <td>Exceeds Expectations</td>\n",
       "      <td>Exceeds Expectations</td>\n",
       "      <td>Exceeds Expectations</td>\n",
       "      <td>16</td>\n",
       "      <td>Seeker</td>\n",
       "      <td>-73</td>\n",
       "      <td>2</td>\n",
       "      <td>No</td>\n",
       "      <td>Unknown</td>\n",
       "      <td>Time-Turner</td>\n",
       "      <td>233</td>\n",
       "      <td>45</td>\n",
       "      <td>5</td>\n",
       "      <td>Hogwarts_Student_Data_20240101.csv</td>\n",
       "      <td>2024-12-19 11:50:28.089582</td>\n",
       "    </tr>\n",
       "    <tr>\n",
       "      <th>4</th>\n",
       "      <td>He who must not be named</td>\n",
       "      <td>Ravenclaw</td>\n",
       "      <td>1</td>\n",
       "      <td>10 inches, oak, dragon heartstring core</td>\n",
       "      <td>Owl</td>\n",
       "      <td>No Grade</td>\n",
       "      <td>Outstanding</td>\n",
       "      <td>Exceeds Expectations</td>\n",
       "      <td>9</td>\n",
       "      <td>Keeper</td>\n",
       "      <td>90</td>\n",
       "      <td>0</td>\n",
       "      <td>No</td>\n",
       "      <td>Yes</td>\n",
       "      <td>Marauder's Map, Sneakoscope</td>\n",
       "      <td>473</td>\n",
       "      <td>27</td>\n",
       "      <td>7</td>\n",
       "      <td>Hogwarts_Student_Data_20240101.csv</td>\n",
       "      <td>2024-12-19 11:50:28.089582</td>\n",
       "    </tr>\n",
       "  </tbody>\n",
       "</table>\n",
       "</div>"
      ],
      "text/plain": [
       "               Student Name       House  Year  \\\n",
       "0             Seamus Potter   Slytherin     2   \n",
       "1             Ginny Spinnet  Gryffindor     6   \n",
       "2           Padma Parkinson  Gryffindor     4   \n",
       "3  He who must not be named   Ravenclaw     1   \n",
       "4  He who must not be named   Ravenclaw     1   \n",
       "\n",
       "                                 Wand Type          Pet         Potions Grade  \\\n",
       "0           9 inches, elm, veela hair core       Dragon           Outstanding   \n",
       "1           9 inches, elm, veela hair core          Cat  Exceeds Expectations   \n",
       "2   11 inches, holly, phoenix feather core  Muggle Born           Outstanding   \n",
       "3        12 inches, yew, unicorn hair core         Toad  Exceeds Expectations   \n",
       "4  10 inches, oak, dragon heartstring core          Owl              No Grade   \n",
       "\n",
       "  Defense Against the Dark Arts Grade Transfiguration Grade  Spells Learned  \\\n",
       "0                Exceeds Expectations           Outstanding              26   \n",
       "1                          Acceptable           Outstanding              11   \n",
       "2                          Acceptable           Outstanding              19   \n",
       "3                Exceeds Expectations  Exceeds Expectations              16   \n",
       "4                         Outstanding  Exceeds Expectations               9   \n",
       "\n",
       "  Quidditch Position  Points Earned for House  Detentions  \\\n",
       "0             Beater                     -100           3   \n",
       "1             Chaser                      139           2   \n",
       "2             Seeker                       93           2   \n",
       "3             Seeker                      -73           2   \n",
       "4             Keeper                       90           0   \n",
       "\n",
       "  Participation in Dueling Club Triwizard Tournament Involvement  \\\n",
       "0                            No                               No   \n",
       "1                            No                               No   \n",
       "2                            No                               No   \n",
       "3                            No                          Unknown   \n",
       "4                            No                              Yes   \n",
       "\n",
       "                              Items Owned  Knuts Spent in Hogsmeade  \\\n",
       "0             Time-Turner, Marauder's Map                        88   \n",
       "1  Firebolt, Sneakoscope, Extendable Ears                        99   \n",
       "2                      Invisibility Cloak                       342   \n",
       "3                             Time-Turner                       233   \n",
       "4             Marauder's Map, Sneakoscope                       473   \n",
       "\n",
       "   Attendance at Classes  Magical Accidents  \\\n",
       "0                     74                  5   \n",
       "1                     67                  6   \n",
       "2                     88                  6   \n",
       "3                     45                  5   \n",
       "4                     27                  7   \n",
       "\n",
       "                             fileName          loadDatetimeStamp  \n",
       "0  Hogwarts_Student_Data_20240101.csv 2024-12-19 11:50:28.089582  \n",
       "1  Hogwarts_Student_Data_20240101.csv 2024-12-19 11:50:28.089582  \n",
       "2  Hogwarts_Student_Data_20240101.csv 2024-12-19 11:50:28.089582  \n",
       "3  Hogwarts_Student_Data_20240101.csv 2024-12-19 11:50:28.089582  \n",
       "4  Hogwarts_Student_Data_20240101.csv 2024-12-19 11:50:28.089582  "
      ]
     },
     "execution_count": 52,
     "metadata": {},
     "output_type": "execute_result"
    }
   ],
   "source": [
    "df.head()"
   ]
  },
  {
   "cell_type": "code",
   "execution_count": 53,
   "metadata": {},
   "outputs": [
    {
     "name": "stdout",
     "output_type": "stream",
     "text": [
      "<class 'pandas.core.frame.DataFrame'>\n",
      "RangeIndex: 48000 entries, 0 to 47999\n",
      "Data columns (total 20 columns):\n",
      " #   Column                               Non-Null Count  Dtype         \n",
      "---  ------                               --------------  -----         \n",
      " 0   Student Name                         48000 non-null  string        \n",
      " 1   House                                48000 non-null  string        \n",
      " 2   Year                                 48000 non-null  int32         \n",
      " 3   Wand Type                            48000 non-null  string        \n",
      " 4   Pet                                  48000 non-null  string        \n",
      " 5   Potions Grade                        48000 non-null  string        \n",
      " 6   Defense Against the Dark Arts Grade  48000 non-null  string        \n",
      " 7   Transfiguration Grade                48000 non-null  string        \n",
      " 8   Spells Learned                       48000 non-null  int32         \n",
      " 9   Quidditch Position                   48000 non-null  string        \n",
      " 10  Points Earned for House              48000 non-null  int32         \n",
      " 11  Detentions                           48000 non-null  int32         \n",
      " 12  Participation in Dueling Club        48000 non-null  string        \n",
      " 13  Triwizard Tournament Involvement     48000 non-null  string        \n",
      " 14  Items Owned                          48000 non-null  string        \n",
      " 15  Knuts Spent in Hogsmeade             48000 non-null  int32         \n",
      " 16  Attendance at Classes                48000 non-null  int32         \n",
      " 17  Magical Accidents                    48000 non-null  int32         \n",
      " 18  fileName                             48000 non-null  string        \n",
      " 19  loadDatetimeStamp                    48000 non-null  datetime64[ns]\n",
      "dtypes: datetime64[ns](1), int32(7), string(12)\n",
      "memory usage: 6.0 MB\n"
     ]
    }
   ],
   "source": [
    "df.info()"
   ]
  },
  {
   "cell_type": "markdown",
   "metadata": {},
   "source": [
    "**1. Students owning more than one pet**\n"
   ]
  },
  {
   "cell_type": "code",
   "execution_count": 54,
   "metadata": {},
   "outputs": [],
   "source": [
    "pet_counts = df.groupby('Student Name')['Pet'].nunique().reset_index()\n",
    "students_with_multiple_pets = pet_counts[pet_counts['Pet'] > 1]\n",
    "students_with_multiple_pets.to_parquet('./Gold Parquets/Gold_Student_Pets_Over_One.parquet', index = False)\n",
    "students_with_multiple_pets.to_csv('./Gold Parquets/Gold_Student_Pets_Over_One.csv', index = False)\n"
   ]
  },
  {
   "cell_type": "markdown",
   "metadata": {},
   "source": [
    "**2. Total points earned by House**\n"
   ]
  },
  {
   "cell_type": "code",
   "execution_count": 55,
   "metadata": {},
   "outputs": [],
   "source": [
    "house_points = df.groupby('House', as_index=False)['Points Earned for House'].sum()\n",
    "house_points.to_parquet('./Gold Parquets/Gold_House_Points.parquet', index = False)\n",
    "house_points.to_csv('./Gold Parquets/Gold_House_Points.csv', index = False)"
   ]
  },
  {
   "cell_type": "markdown",
   "metadata": {},
   "source": [
    "**3. Average magical accidents by the Defense Against the Dark Arts Grade**\n"
   ]
  },
  {
   "cell_type": "code",
   "execution_count": null,
   "metadata": {},
   "outputs": [],
   "source": [
    "average_accidents = df.groupby('Defense Against the Dark Arts Grade', as_index=False)['Magical Accidents'].mean()\n",
    "average_accidents.to_parquet('./Gold Parquets/Gold_Dark_Arts_Accidents.parquet', index = False)\n",
    "average_accidents.to_csv('./Gold Parquets/Gold_Dark_Arts_Accidents.csv', index = False)"
   ]
  },
  {
   "cell_type": "markdown",
   "metadata": {},
   "source": [
    "**4. Number of Seekers in Each House**\n"
   ]
  },
  {
   "cell_type": "code",
   "execution_count": null,
   "metadata": {},
   "outputs": [],
   "source": [
    "seekers = df[df['Quidditch Position'] == 'Seeker']\n",
    "seeker_count = seekers.groupby('House').size().reset_index(name='Seeker Count')\n",
    "sorted_seeker_count = seeker_count.sort_values(by='Seeker Count', ascending=False)\n",
    "sorted_seeker_count.to_parquet('./Gold Parquets/Gold_Seeker_Count_in_Each_House.parquet', index = False) \n",
    "sorted_seeker_count.to_csv('./Gold Parquets/Gold_Seeker_Count_in_Each_House.csv', index = False)"
   ]
  }
 ],
 "metadata": {
  "kernelspec": {
   "display_name": "bsg",
   "language": "python",
   "name": "python3"
  },
  "language_info": {
   "codemirror_mode": {
    "name": "ipython",
    "version": 3
   },
   "file_extension": ".py",
   "mimetype": "text/x-python",
   "name": "python",
   "nbconvert_exporter": "python",
   "pygments_lexer": "ipython3",
   "version": "3.12.6"
  }
 },
 "nbformat": 4,
 "nbformat_minor": 2
}
